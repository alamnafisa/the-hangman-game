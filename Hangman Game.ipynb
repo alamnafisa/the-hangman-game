{
 "cells": [
  {
   "cell_type": "code",
   "execution_count": null,
   "metadata": {},
   "outputs": [],
   "source": [
    "#Write a code for The Hangman Game. In this game, the user only enters the number of letters \n",
    "#existing in that word, and the computer tries to guess them based on a fixed number of attempts. \n",
    "#The game ends if the computer correctly guessed all the letters in order or used all of the given attempts.\n",
    "\n",
    "import string\n",
    "import random\n",
    "\n",
    "rejectList = []\n",
    "def generateLetter():\n",
    "    global rejectList\n",
    "    x= random.choice(string.ascii_letters)\n",
    "    while x in rejectList:\n",
    "        x= random.choice(string.ascii_letters)\n",
    "    return (x)  \n",
    "# the use of the rejectlist is to make sure the user is not prompted the letter again if it was rejected earlier\n",
    "\n",
    "string.ascii_letters = 'ABCDEFGHIJKLMNOPQRSTUVWXYZ'\n",
    "playerName= input (\"Please enter your name: \")\n",
    "print (\"Hi \", playerName, \" My my name is Mike, the computer, and I will be guessing your word\")\n",
    "noOfChrs= int (input (\"How many letters are there in the word you are thinking of?: \")) \n",
    "noOfTries= (noOfChrs *2)\n",
    "print (\"You get in total {} tries\".format (noOfTries))\n",
    "theWord=\"\"\n",
    "\n",
    "while noOfTries >= 1:\n",
    "    theLetter= generateLetter()\n",
    "    playerResponse = input(\"Does the word have a {}. Please enter Y or N\".format(theLetter))\n",
    "    \n",
    "    if playerResponse.lower ()== \"n\":\n",
    "        noOfTries= noOfTries-1\n",
    "        \n",
    "        if noOfTries > 0: \n",
    "            print (\"Sorry that was wrong! You have \", noOfTries,\" left. Please try again.\" )\n",
    "            playerResponse = input(\"Does the letter {} reappear later? Please enter Y or N\".format (theLetter))\n",
    "        else:\n",
    "            print (\"Game Over, you got 0 attempts left\" )\n",
    "            break\n",
    "            \n",
    "        if  playerResponse.lower ()== \"n\":\n",
    "            rejectList.append (theLetter)\n",
    "            print (\"This is the reject list of letters\",rejectList)\n",
    "    \n",
    "    else: \n",
    "        noOfTries= noOfTries-1\n",
    "        theWord= theWord + theLetter\n",
    "        print (\"Your guess was right! Keep going.\"  )\n",
    "        print (\" The Word is...\"  + \" Attempts left\")\n",
    "        print (\"____________________________________\")\n",
    "        print (\"  \",theWord,\"      |\", \"  \",noOfTries, \" \")\n",
    "        print (\"____________________________________\")    \n",
    "\n"
   ]
  }
 ],
 "metadata": {
  "kernelspec": {
   "display_name": "Python 3",
   "language": "python",
   "name": "python3"
  },
  "language_info": {
   "codemirror_mode": {
    "name": "ipython",
    "version": 3
   },
   "file_extension": ".py",
   "mimetype": "text/x-python",
   "name": "python",
   "nbconvert_exporter": "python",
   "pygments_lexer": "ipython3",
   "version": "3.8.5"
  }
 },
 "nbformat": 4,
 "nbformat_minor": 4
}
